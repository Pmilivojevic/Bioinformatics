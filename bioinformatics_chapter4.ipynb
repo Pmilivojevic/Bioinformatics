{
  "nbformat": 4,
  "nbformat_minor": 0,
  "metadata": {
    "colab": {
      "provenance": [],
      "toc_visible": true,
      "authorship_tag": "ABX9TyOkGZM0iwCVc72/fRVwoCku",
      "include_colab_link": true
    },
    "kernelspec": {
      "name": "python3",
      "display_name": "Python 3"
    },
    "language_info": {
      "name": "python"
    }
  },
  "cells": [
    {
      "cell_type": "markdown",
      "metadata": {
        "id": "view-in-github",
        "colab_type": "text"
      },
      "source": [
        "<a href=\"https://colab.research.google.com/github/Pmilivojevic/Bioinformatics/blob/main/bioinformatics_chapter4.ipynb\" target=\"_parent\"><img src=\"https://colab.research.google.com/assets/colab-badge.svg\" alt=\"Open In Colab\"/></a>"
      ]
    },
    {
      "cell_type": "code",
      "execution_count": null,
      "metadata": {
        "colab": {
          "base_uri": "https://localhost:8080/"
        },
        "id": "kgNhuIln3RMo",
        "outputId": "bd6e8263-953d-413a-c3c1-66a3f30e299d"
      },
      "outputs": [
        {
          "output_type": "stream",
          "name": "stdout",
          "text": [
            "Mounted at /content/drive/\n"
          ]
        }
      ],
      "source": [
        "import numpy as np\n",
        "import time\n",
        "import copy\n",
        "import math\n",
        "from more_itertools import sort_together\n",
        "from google.colab import drive\n",
        "drive.mount('/content/drive/')\n",
        "nucleotides= ['A', 'C', 'G', 'T']\n",
        "aminoAcids= {'G': 57, 'A': 71, 'S': 87, 'P': 97, 'V': 99, 'T': 101, 'C': 103, 'I': 113, 'L': 113, 'N': 114, 'D': 115, 'K': 128, 'Q': 128, 'E': 129, 'M': 131, 'H': 137, 'F': 147, 'R': 156, 'Y': 163, 'W': 186}\n",
        "from itertools import product"
      ]
    },
    {
      "cell_type": "code",
      "source": [
        "aminoAcidsRev= {}\n",
        "masses= []\n",
        "\n",
        "for key in aminoAcids.keys():\n",
        "  if key != 'L' and key != 'Q':\n",
        "    aminoAcidsRev[aminoAcids[key]]= key\n",
        "    masses.append(aminoAcids[key])\n",
        "\n",
        "massesNPAC= []\n",
        "for i in range(57, 201):\n",
        "  massesNPAC.append(i)"
      ],
      "metadata": {
        "id": "t59pseXPlfjD"
      },
      "execution_count": null,
      "outputs": []
    },
    {
      "cell_type": "code",
      "source": [
        "def reverseComplement(seq):\n",
        "  revSeq= ''\n",
        "  for i in range(len(seq)-1, -1, -1):\n",
        "    if seq[i] == 'A':\n",
        "      revSeq+= 'T'\n",
        "    elif seq[i] == 'C':\n",
        "      revSeq+= 'G'\n",
        "    elif seq[i] == 'G':\n",
        "      revSeq+= 'C'\n",
        "    else:\n",
        "      revSeq+= 'A'\n",
        "\n",
        "  return revSeq"
      ],
      "metadata": {
        "id": "Pwm__Dw54F71"
      },
      "execution_count": null,
      "outputs": []
    },
    {
      "cell_type": "code",
      "source": [
        "def dna2rna(DNA):\n",
        "  RNA= ''\n",
        "  for n in DNA:\n",
        "    if n == 'T':\n",
        "      RNA+= 'U'\n",
        "    else:\n",
        "      RNA+= n\n",
        "\n",
        "  return RNA"
      ],
      "metadata": {
        "id": "15UMBZZC_pq8"
      },
      "execution_count": null,
      "outputs": []
    },
    {
      "cell_type": "code",
      "source": [
        "def Mass(peptide):\n",
        "  mass= 0\n",
        "  for aAcid in peptide:\n",
        "    mass+= aminoAcids[aAcid]\n",
        "\n",
        "  return mass"
      ],
      "metadata": {
        "id": "_LajRHwc5exm"
      },
      "execution_count": null,
      "outputs": []
    },
    {
      "cell_type": "code",
      "source": [
        "def Mass1(peptide):\n",
        "  mass= sum(peptide)\n",
        "\n",
        "  return mass"
      ],
      "metadata": {
        "id": "exKEaw42drS8"
      },
      "execution_count": null,
      "outputs": []
    },
    {
      "cell_type": "code",
      "source": [
        "def mass2peptide(masses):\n",
        "  peptide= ''\n",
        "\n",
        "  for m in masses:\n",
        "    peptide+= aminoAcidsRev[m]\n",
        "\n",
        "  return peptide"
      ],
      "metadata": {
        "id": "EwOU--V2KCbq"
      },
      "execution_count": null,
      "outputs": []
    },
    {
      "cell_type": "code",
      "source": [
        "def codon2aAcid(codon):\n",
        "  if codon == 'AAU' or codon == 'AAC':\n",
        "    return 'N'\n",
        "  elif codon == 'AAA' or codon =='AAG':\n",
        "    return 'K'\n",
        "  elif codon == 'ACU' or codon == 'ACC' or codon == 'ACA' or codon == 'ACG':\n",
        "    return 'T'\n",
        "  elif codon == 'AGU' or codon == 'AGC' or codon == 'UCU' or codon == 'UCC' or codon == 'UCA' or codon == 'UCG':\n",
        "    return 'S'\n",
        "  elif codon == 'AGA' or codon == 'AGG' or codon == 'CGU' or codon == 'CGC' or codon == 'CGA' or codon == 'CGG':\n",
        "    return 'R'\n",
        "  elif codon == 'AUU' or codon == 'AUC' or codon == 'AUA':\n",
        "    return 'I'\n",
        "  elif codon == 'AUG':\n",
        "    return 'M'\n",
        "  elif codon == 'CAU' or codon == 'CAC':\n",
        "    return 'H'\n",
        "  elif codon == 'CAA' or codon == 'CAG':\n",
        "    return 'Q'\n",
        "  elif codon == 'CCU' or codon == 'CCC' or codon == 'CCA' or codon == 'CCG':\n",
        "    return 'P'\n",
        "  elif codon == 'CUU' or codon == 'CUC' or codon == 'CUA' or codon == 'CUG' or codon == 'UUA' or codon == 'UUG':\n",
        "    return 'L'\n",
        "  elif codon == 'GAU' or codon == 'GAC':\n",
        "    return 'D'\n",
        "  elif codon == 'GAA' or codon == 'GAG':\n",
        "    return 'E'\n",
        "  elif codon == 'GCU' or codon == 'GCC' or codon == 'GCA' or codon == 'GCG':\n",
        "    return 'A'\n",
        "  elif codon == 'GGU' or codon == 'GGC' or codon == 'GGA' or codon == 'GGG':\n",
        "    return 'G'\n",
        "  elif codon == 'GUU' or codon == 'GUC' or codon == 'GUA' or codon == 'GUG':\n",
        "    return 'V'\n",
        "  elif codon == 'UAU' or codon == 'UAC':\n",
        "    return 'Y'\n",
        "  elif codon == 'UAA' or codon == 'UAG':\n",
        "    return '*'\n",
        "  elif codon == 'UGU' or codon == 'UGC':\n",
        "    return 'C'\n",
        "  elif codon == 'UGA':\n",
        "    return '*'\n",
        "  elif codon == 'UGG':\n",
        "    return 'W'\n",
        "  elif codon == 'UUU' or codon == 'UUC':\n",
        "    return 'F'\n",
        "\n",
        "def translation(RNA):\n",
        "  protein= ''\n",
        "\n",
        "  for i in range(0, len(RNA), 3):\n",
        "    if codon2aAcid(RNA[i:i+3]) != '*':\n",
        "      protein+= codon2aAcid(RNA[i:i+3])\n",
        "\n",
        "  return protein"
      ],
      "metadata": {
        "id": "Y8kq1wBVj_lC"
      },
      "execution_count": null,
      "outputs": []
    },
    {
      "cell_type": "code",
      "source": [
        "def peptideEncoding(DNA, peptide):\n",
        "  lDNA= 3*len(peptide)\n",
        "  subStr= []\n",
        "\n",
        "  for i in range(len(DNA)-lDNA+1):\n",
        "    if translation(dna2rna(DNA[i:i+lDNA])) == peptide or translation(dna2rna(reverseComplement(DNA[i:i+lDNA]))) == peptide:\n",
        "      subStr.append(DNA[i:i+lDNA])\n",
        "\n",
        "  return subStr"
      ],
      "metadata": {
        "id": "N7PmUfZV4L-I"
      },
      "execution_count": null,
      "outputs": []
    },
    {
      "cell_type": "code",
      "source": [
        "def cyclicSubpeptides(cPeptide):\n",
        "  subpeptides= []\n",
        "\n",
        "  for i in range(1, len(cPeptide)):\n",
        "    for j in range(len(cPeptide)- i+1):\n",
        "      subpeptides.append(cPeptide[j:j+i])\n",
        "\n",
        "    if i != 1:\n",
        "      for k in range(i-1):\n",
        "        pomPep= cPeptide[len(cPeptide)-i+k+1:] + cPeptide[:k+1]\n",
        "        subpeptides.append(pomPep)\n",
        "\n",
        "  return subpeptides\n",
        "\n",
        "def linearSubpeptides(lPeptide):\n",
        "  subpeptides= []\n",
        "\n",
        "  for i in range(1, len(lPeptide)):\n",
        "    for j in range(len(lPeptide)- i+1):\n",
        "      subpeptides.append(lPeptide[j:j+i])\n",
        "\n",
        "  return subpeptides\n",
        "\n",
        "t= time.time()\n",
        "print(linearSubpeptides([0, 1, 2, 3]))\n",
        "print(time.time()-t)\n",
        "t= time.time()\n",
        "print(linearSubpeptides('NQEL'))\n",
        "print(time.time()-t)\n",
        "print(cyclicSubpeptides([0, 1, 2, 3]))"
      ],
      "metadata": {
        "id": "IlJx45zW8Dvq",
        "colab": {
          "base_uri": "https://localhost:8080/"
        },
        "outputId": "e2163950-d5c3-42be-853b-4b7c80c90433"
      },
      "execution_count": null,
      "outputs": [
        {
          "output_type": "stream",
          "name": "stdout",
          "text": [
            "[[0], [1], [2], [3], [0, 1], [1, 2], [2, 3], [0, 1, 2], [1, 2, 3]]\n",
            "0.0010502338409423828\n",
            "['N', 'Q', 'E', 'L', 'NQ', 'QE', 'EL', 'NQE', 'QEL']\n",
            "0.0004322528839111328\n",
            "[[0], [1], [2], [3], [0, 1], [1, 2], [2, 3], [3, 0], [0, 1, 2], [1, 2, 3], [2, 3, 0], [3, 0, 1]]\n"
          ]
        }
      ]
    },
    {
      "cell_type": "code",
      "source": [
        "def cyclicSpectrum(peptide):\n",
        "  spectrum= [0]\n",
        "\n",
        "  for p in cyclicSubpeptides(peptide):\n",
        "    spectrum.append(Mass(p))\n",
        "\n",
        "  spectrum.append(Mass(peptide))\n",
        "  spectrum.sort()\n",
        "\n",
        "  return spectrum\n",
        "\n",
        "def cyclicSpectrumM(peptide):\n",
        "  spectrum= [0]\n",
        "\n",
        "  for m in cyclicSubpeptides(peptide):\n",
        "    spectrum.append(sum(m))\n",
        "  spectrum.append(sum(peptide))\n",
        "  spectrum.sort()\n",
        "\n",
        "  return spectrum\n",
        "\n",
        "def linearSpectrum(peptide):\n",
        "  spectrum= [0]\n",
        "\n",
        "  for p in linearSubpeptides(peptide):\n",
        "    spectrum.append(Mass(p))\n",
        "\n",
        "  spectrum.append(Mass(peptide))\n",
        "  spectrum.sort()\n",
        "\n",
        "  return spectrum\n",
        "\n",
        "def linearSpectrumM(peptide):\n",
        "  spectrum= [0]\n",
        "\n",
        "  for m in linearSubpeptides(peptide):\n",
        "    spectrum.append(sum(m))\n",
        "  spectrum.append(sum(peptide))\n",
        "  spectrum.sort()\n",
        "\n",
        "  return spectrum\n",
        "\n",
        "sp= ''\n",
        "for c in cyclicSpectrum('NQEL'):\n",
        "  sp+= str(c) + ' '\n",
        "\n",
        "\n",
        "t= time.time()\n",
        "print(linearSpectrumM([114, 128, 129, 113]))\n",
        "print(time.time()-t)"
      ],
      "metadata": {
        "colab": {
          "base_uri": "https://localhost:8080/"
        },
        "id": "0pAJ4xERYtcO",
        "outputId": "3cb746c3-d22f-46ca-9d1a-793a55249bd7"
      },
      "execution_count": null,
      "outputs": [
        {
          "output_type": "stream",
          "name": "stdout",
          "text": [
            "[0, 113, 114, 128, 129, 242, 242, 257, 370, 371, 484]\n",
            "0.00021314620971679688\n"
          ]
        }
      ]
    },
    {
      "cell_type": "code",
      "source": [
        "def countingMass(mass, massList):\n",
        "  if mass == 0:\n",
        "    return 1, massList\n",
        "\n",
        "  if mass < 57:\n",
        "    return 0, massList\n",
        "\n",
        "  if mass in massList:\n",
        "    return massList[mass], massList\n",
        "\n",
        "  n= 0\n",
        "  for i in aminoAcidsRev.keys():\n",
        "    k, massList= countingMass(mass-i, massList)\n",
        "    n+= k\n",
        "\n",
        "  massList[mass]= n\n",
        "\n",
        "  return n, massList\n"
      ],
      "metadata": {
        "id": "ar0H48-ZoGzH"
      },
      "execution_count": null,
      "outputs": []
    },
    {
      "cell_type": "code",
      "source": [
        "def expand(candidate, masses):\n",
        "  newCandidate= []\n",
        "\n",
        "  for peptide in candidate:\n",
        "    for acid in masses:\n",
        "      newPeptide= peptide.copy()\n",
        "      newPeptide.append(acid)\n",
        "      newCandidate.append(newPeptide)\n",
        "\n",
        "  return newCandidate"
      ],
      "metadata": {
        "id": "LQEzPMmUqli4"
      },
      "execution_count": null,
      "outputs": []
    },
    {
      "cell_type": "code",
      "source": [
        "def isPresent(peptide, peptides):\n",
        "  for pep in peptides:\n",
        "    if peptide == pep:\n",
        "      return True\n",
        "\n",
        "  return False"
      ],
      "metadata": {
        "id": "fcEim1N2MDj0"
      },
      "execution_count": null,
      "outputs": []
    },
    {
      "cell_type": "code",
      "source": [
        "def numOfAppearance(mass, spectrum):\n",
        "  n= 0\n",
        "\n",
        "  for m in spectrum:\n",
        "    if mass == m:\n",
        "      n+= 1\n",
        "\n",
        "  return n"
      ],
      "metadata": {
        "id": "qGfq7hpGNW-4"
      },
      "execution_count": null,
      "outputs": []
    },
    {
      "cell_type": "code",
      "source": [
        "def isConsistent(peptideSpec, Spec):\n",
        "  if max(peptideSpec) > max(Spec):\n",
        "    return False\n",
        "  else:\n",
        "    for mp in peptideSpec:\n",
        "      for ms in Spec:\n",
        "        if mp == ms and numOfAppearance(mp, peptideSpec) <= numOfAppearance(mp, Spec):\n",
        "          break\n",
        "        elif mp < ms:\n",
        "          return False\n",
        "      if mp != ms:\n",
        "        return False\n",
        "    return True"
      ],
      "metadata": {
        "id": "PRi2U54PPYmX"
      },
      "execution_count": null,
      "outputs": []
    },
    {
      "cell_type": "code",
      "source": [
        "def CyclopeptideSequencing(Spectrum):\n",
        "  candidatePeptides= [[]]\n",
        "  finalPeptides= []\n",
        "\n",
        "  while candidatePeptides:\n",
        "    candidatePeptides= expand(candidatePeptides)\n",
        "\n",
        "    i= 0\n",
        "    end= len(candidatePeptides)\n",
        "    while i < end:\n",
        "      peptide= candidatePeptides[i]\n",
        "      if max(cyclicSpectrumM(peptide)) == max(Spectrum):\n",
        "        if cyclicSpectrumM(peptide) == Spectrum and not isPresent(peptide, finalPeptides):\n",
        "          finalPeptides.append(peptide)\n",
        "        candidatePeptides.remove(peptide)\n",
        "        end= len(candidatePeptides)\n",
        "      elif not isConsistent(linearSpectrumM(peptide), Spectrum):\n",
        "        candidatePeptides.remove(peptide)\n",
        "        end= len(candidatePeptides)\n",
        "      else:\n",
        "        i+= 1\n",
        "  return finalPeptides"
      ],
      "metadata": {
        "id": "Hjc14ZnRYo57"
      },
      "execution_count": null,
      "outputs": []
    },
    {
      "cell_type": "code",
      "source": [
        "def scoreCyclic(peptide, e_spectrum):\n",
        "  t_spectrum= cyclicSpectrum(peptide)\n",
        "  sc= 0\n",
        "  prev= -1\n",
        "\n",
        "  for es in e_spectrum:\n",
        "    if es != prev:\n",
        "      if es in t_spectrum:\n",
        "        if numOfAppearance(es, e_spectrum) <= numOfAppearance(es, t_spectrum):\n",
        "          sc+= numOfAppearance(es, e_spectrum)\n",
        "        else:\n",
        "          sc+= numOfAppearance(es, t_spectrum)\n",
        "      prev= es\n",
        "\n",
        "  return sc\n",
        "\n",
        "def scoreLinear(peptide, e_spectrum):\n",
        "  t_spectrum= linearSpectrum(peptide)\n",
        "  sc= 0\n",
        "  prev= -1\n",
        "\n",
        "  for es in e_spectrum:\n",
        "    if es != prev:\n",
        "      if es in t_spectrum:\n",
        "        if numOfAppearance(es, e_spectrum) <= numOfAppearance(es, t_spectrum):\n",
        "          sc+= numOfAppearance(es, e_spectrum)\n",
        "        else:\n",
        "          sc+= numOfAppearance(es, t_spectrum)\n",
        "      prev= es\n",
        "\n",
        "  return sc"
      ],
      "metadata": {
        "id": "oe_GJlitXBsy"
      },
      "execution_count": null,
      "outputs": []
    },
    {
      "cell_type": "code",
      "source": [
        "def trim(leaderboard, spectrum, N):\n",
        "  if len(leaderboard) == 0:\n",
        "    return leaderboard\n",
        "  elif N >= len(leaderboard):\n",
        "    return leaderboard\n",
        "  else:\n",
        "    leader_scores= []\n",
        "    for peptide in leaderboard:\n",
        "      leader_scores.append(scoreCyclic(peptide, spectrum))\n",
        "      #leader_scores.append(scoreLinear(peptide, spectrum))\n",
        "\n",
        "    leader_scores, leaderboard= sort_together([leader_scores, leaderboard], reverse= True)\n",
        "\n",
        "    for i in range(N, len(leaderboard)):\n",
        "      if leader_scores[i] < leader_scores[N-1]:\n",
        "        return list(leaderboard[:i])\n",
        "      elif i == len(leaderboard) - 1:\n",
        "        return list(leaderboard)"
      ],
      "metadata": {
        "id": "5_xeX64dExV0"
      },
      "execution_count": null,
      "outputs": []
    },
    {
      "cell_type": "code",
      "source": [
        "def leaderboardCyclopeptideSequencing(Spectrum, M, N):\n",
        "  mm= spectralConvolution(Spectrum, M)\n",
        "  leaderboard= [[]]\n",
        "  leaderPeptide= ''\n",
        "  leaderPeptides= []\n",
        "  n= N\n",
        "  N= 2*N\n",
        "\n",
        "  while leaderboard:\n",
        "    leaderboard= expand(leaderboard, mm)\n",
        "\n",
        "    if math.ceil(N/2) > 152:\n",
        "      N= math.ceil(N/3)\n",
        "    else:\n",
        "      N= 152\n",
        "    leaderboard= trim(leaderboard, Spectrum, n)\n",
        "\n",
        "    i= 0\n",
        "    end= len(leaderboard)\n",
        "\n",
        "    while i < end:\n",
        "      if max(cyclicSpectrumM(leaderboard[i])) == max(Spectrum):\n",
        "        if scoreCyclic(leaderboard[i], Spectrum) == 82: #> scoreCyclic(leaderPeptide, Spectrum):\n",
        "          #leaderPeptide= leaderboard[i]\n",
        "          leaderPeptides.append(leaderboard[i])\n",
        "          i+= 1\n",
        "        else:\n",
        "          i+= 1\n",
        "      elif max(cyclicSpectrumM(leaderboard[i])) > max(Spectrum):\n",
        "        leaderboard.remove(leaderboard[i])\n",
        "        end= len(leaderboard)\n",
        "      else:\n",
        "        i+=1\n",
        "\n",
        "  return leaderPeptides"
      ],
      "metadata": {
        "id": "cnlbWY4gHC4D"
      },
      "execution_count": null,
      "outputs": []
    },
    {
      "cell_type": "code",
      "source": [
        "  def spectralConvolution(spectrum, M):\n",
        "    spectrum.sort()\n",
        "    convList= []\n",
        "\n",
        "    for i in range(1, len(spectrum)):\n",
        "      for j in range(0, i):\n",
        "        if spectrum[i] - spectrum[j] > 56 and spectrum[i] - spectrum[j] < 201:\n",
        "          convList.append(spectrum[i] - spectrum[j])\n",
        "\n",
        "    d= {}\n",
        "    for m in convList:\n",
        "      if m in d:\n",
        "        d[m]= d[m]+1\n",
        "      else:\n",
        "        d[m]= 1\n",
        "\n",
        "    d= {k: v for k, v in sorted(d.items(), key= lambda v: v[1], reverse= True)}\n",
        "\n",
        "    outList= []\n",
        "\n",
        "    if len(d) < M:\n",
        "      for v in d.keys():\n",
        "        outList.append(v)\n",
        "    else:\n",
        "      l= 1\n",
        "      for v in d.keys():\n",
        "        if l > M:\n",
        "          if d[v] == d[outList[len(outList)-1]]:\n",
        "            outList.append(v)\n",
        "          else:\n",
        "            break\n",
        "        else:\n",
        "          outList.append(v)\n",
        "          l+= 1\n",
        "\n",
        "    return outList"
      ],
      "metadata": {
        "id": "bzCnha3Dt2Po"
      },
      "execution_count": null,
      "outputs": []
    },
    {
      "cell_type": "code",
      "source": [
        "s= [0, 86, 160, 234, 308, 320, 382]\n",
        "print(spectralConvolution(s, 20))"
      ],
      "metadata": {
        "colab": {
          "base_uri": "https://localhost:8080/"
        },
        "id": "FvJ112Ccxpay",
        "outputId": "3302bca3-6ca8-4a51-d111-6d7cc06036ba"
      },
      "execution_count": null,
      "outputs": [
        {
          "output_type": "stream",
          "name": "stdout",
          "text": [
            "[74, 148, 86, 160, 62]\n"
          ]
        }
      ]
    },
    {
      "cell_type": "code",
      "source": [
        " ss= '0 71 71 71 131 131 131 156 198 199 199 202 202 202 333 333 333 404 404'\n",
        "ss= ss.split()\n",
        "spectrum= []\n",
        "for s in ss:\n",
        "  spectrum.append(int(s))\n",
        "#print(len(spectrum))\n",
        "\n",
        "#spectrum= [0, 71, 113, 129, 147, 200, 218, 260, 313, 331, 347, 389, 460,]\n",
        "N= 1000\n",
        "\n",
        "#sss= leaderboardCyclopeptideSequencing(spectrum, 20, 1000)\n",
        "re= ''\n",
        "for r in sss:\n",
        "  re+= str(r) + ' '\n",
        "re= re[:-1]\n",
        "print(scoreLinear('MAMA', spectrum))\n",
        "#print(leaderboardCyclopeptideSequencing(spectrum, N))\n",
        "#print(scoreLinear(mass2peptide([57]), spectrum))\n",
        "#print(trim([], spectrum, N))"
      ],
      "metadata": {
        "colab": {
          "base_uri": "https://localhost:8080/"
        },
        "id": "qtj4oUP2v2lB",
        "outputId": "26b07797-966f-46e1-8e21-a907b4eb59b5"
      },
      "execution_count": null,
      "outputs": [
        {
          "output_type": "stream",
          "name": "stdout",
          "text": [
            "10\n"
          ]
        }
      ]
    },
    {
      "cell_type": "code",
      "source": [
        "print(len(re))"
      ],
      "metadata": {
        "colab": {
          "base_uri": "https://localhost:8080/"
        },
        "id": "gyfEXsO4SWFI",
        "outputId": "5f47bfdd-ef3d-4349-a9c8-bd6de7a7906d"
      },
      "execution_count": null,
      "outputs": [
        {
          "output_type": "stream",
          "name": "stdout",
          "text": [
            "1101\n"
          ]
        }
      ]
    },
    {
      "cell_type": "code",
      "source": [
        "re= ''\n",
        "for r in sss:\n",
        "  re+= str(r) + '-'\n",
        "re= re[:-1]\n",
        "print(re)"
      ],
      "metadata": {
        "id": "vb5egl5KdNYL",
        "colab": {
          "base_uri": "https://localhost:8080/"
        },
        "outputId": "4c062111-9c7f-4af2-9694-7722467ed0bb"
      },
      "execution_count": null,
      "outputs": [
        {
          "output_type": "stream",
          "name": "stdout",
          "text": [
            "137-128-114-137-186-99-128-114-163-99-147-115-101-131-101\n"
          ]
        }
      ]
    },
    {
      "cell_type": "code",
      "source": [
        "filePath= '/content/drive/MyDrive/Colab Notebooks/dataset_102_8.txt'\n",
        "\n",
        "nl= 0\n",
        "s= ''\n",
        "with open(filePath, 'r') as file:\n",
        "  for line in file:\n",
        "    if nl == 0:\n",
        "      N= line\n",
        "      nl= 1\n",
        "    else:\n",
        "      s= line\n",
        "\n",
        "#peptide= peptide[:-1]\n",
        "\n",
        "s= s.split()\n",
        "sp= []\n",
        "for c in s:\n",
        "  sp.append(int(c))\n",
        "#peptide= peptide[:-1]\n",
        "#peptide= peptide.split()\n",
        "\n",
        "N= int(N)\n",
        "final= leaderboardCyclopeptideSequencing(sp, N)\n",
        "s= ''\n",
        "for f in final:\n",
        "  s+= str(f) + '-'\n",
        "s= s[:-1]\n",
        "print(s)"
      ],
      "metadata": {
        "id": "mWOM5kD0bVQ7",
        "colab": {
          "base_uri": "https://localhost:8080/",
          "height": 235
        },
        "outputId": "aecf2609-55d7-4832-f31b-4e88adf6908c"
      },
      "execution_count": null,
      "outputs": [
        {
          "output_type": "error",
          "ename": "TypeError",
          "evalue": "ignored",
          "traceback": [
            "\u001b[0;31m---------------------------------------------------------------------------\u001b[0m",
            "\u001b[0;31mTypeError\u001b[0m                                 Traceback (most recent call last)",
            "\u001b[0;32m<ipython-input-25-14e2bd9b8094>\u001b[0m in \u001b[0;36m<module>\u001b[0;34m()\u001b[0m\n\u001b[1;32m     21\u001b[0m \u001b[0;34m\u001b[0m\u001b[0m\n\u001b[1;32m     22\u001b[0m \u001b[0mN\u001b[0m\u001b[0;34m=\u001b[0m \u001b[0mint\u001b[0m\u001b[0;34m(\u001b[0m\u001b[0mN\u001b[0m\u001b[0;34m)\u001b[0m\u001b[0;34m\u001b[0m\u001b[0;34m\u001b[0m\u001b[0m\n\u001b[0;32m---> 23\u001b[0;31m \u001b[0mfinal\u001b[0m\u001b[0;34m=\u001b[0m \u001b[0mleaderboardCyclopeptideSequencing\u001b[0m\u001b[0;34m(\u001b[0m\u001b[0msp\u001b[0m\u001b[0;34m,\u001b[0m \u001b[0mN\u001b[0m\u001b[0;34m)\u001b[0m\u001b[0;34m\u001b[0m\u001b[0;34m\u001b[0m\u001b[0m\n\u001b[0m\u001b[1;32m     24\u001b[0m \u001b[0ms\u001b[0m\u001b[0;34m=\u001b[0m \u001b[0;34m''\u001b[0m\u001b[0;34m\u001b[0m\u001b[0;34m\u001b[0m\u001b[0m\n\u001b[1;32m     25\u001b[0m \u001b[0;32mfor\u001b[0m \u001b[0mf\u001b[0m \u001b[0;32min\u001b[0m \u001b[0mfinal\u001b[0m\u001b[0;34m:\u001b[0m\u001b[0;34m\u001b[0m\u001b[0;34m\u001b[0m\u001b[0m\n",
            "\u001b[0;31mTypeError\u001b[0m: leaderboardCyclopeptideSequencing() missing 1 required positional argument: 'N'"
          ]
        }
      ]
    },
    {
      "cell_type": "code",
      "source": [
        "p= [156, 147, 129, 186, 147, 129, 97, 131, 147, 99, 186, 115, 131, 186, 71, 128, 71, 71, 115, 186, 147]\n",
        "t= time.time()\n",
        "scoreCyclic(mass2peptide(p), spectrum)\n",
        "print(time.time()-t)\n",
        "t=time.time()\n",
        "mass2peptide(p)\n",
        "print(time.time()-t)\n",
        "t= time.time()\n",
        "cyclicSpectrumM(p)\n",
        "print(time.time()-t)\n",
        "t= time.time()\n",
        "g= numOfAppearance(147, sp)\n",
        "print(time.time()-t)\n"
      ],
      "metadata": {
        "id": "Gh9NHQxDee55"
      },
      "execution_count": null,
      "outputs": []
    },
    {
      "cell_type": "code",
      "source": [
        "round(7/2)"
      ],
      "metadata": {
        "id": "IVuQvUpszOQu"
      },
      "execution_count": null,
      "outputs": []
    },
    {
      "cell_type": "code",
      "source": [],
      "metadata": {
        "id": "lutgOVpbMJZd"
      },
      "execution_count": null,
      "outputs": []
    }
  ]
}