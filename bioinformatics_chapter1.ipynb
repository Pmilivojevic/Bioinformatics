{
  "nbformat": 4,
  "nbformat_minor": 0,
  "metadata": {
    "colab": {
      "provenance": [],
      "authorship_tag": "ABX9TyNJFlzhFbAATw0pMuwvQ8m8",
      "include_colab_link": true
    },
    "kernelspec": {
      "name": "python3",
      "display_name": "Python 3"
    },
    "language_info": {
      "name": "python"
    }
  },
  "cells": [
    {
      "cell_type": "markdown",
      "metadata": {
        "id": "view-in-github",
        "colab_type": "text"
      },
      "source": [
        "<a href=\"https://colab.research.google.com/github/Pmilivojevic/Bioinformatics/blob/main/bioinformatics_chapter1.ipynb\" target=\"_parent\"><img src=\"https://colab.research.google.com/assets/colab-badge.svg\" alt=\"Open In Colab\"/></a>"
      ]
    },
    {
      "cell_type": "code",
      "metadata": {
        "id": "A1IRTN6Ynhqw",
        "colab": {
          "base_uri": "https://localhost:8080/"
        },
        "outputId": "f1177573-76b8-486b-f11f-b9437743cce1"
      },
      "source": [
        "import numpy as np\n",
        "import time\n",
        "import copy\n",
        "from google.colab import drive\n",
        "drive.mount('/content/drive/')\n",
        "nucleotides= ['A', 'C', 'G', 'T']"
      ],
      "execution_count": null,
      "outputs": [
        {
          "output_type": "stream",
          "name": "stdout",
          "text": [
            "Mounted at /content/drive/\n"
          ]
        }
      ]
    },
    {
      "cell_type": "code",
      "source": [
        "def reverseComplement(seq):\n",
        "  revSeq= ''\n",
        "  for i in range(len(seq)-1, -1, -1):\n",
        "    if seq[i] == 'A':\n",
        "      revSeq+= 'T'\n",
        "    elif seq[i] == 'C':\n",
        "      revSeq+= 'G'\n",
        "    elif seq[i] == 'G':\n",
        "      revSeq+= 'C'\n",
        "    else:\n",
        "      revSeq+= 'A'\n",
        "\n",
        "  return revSeq"
      ],
      "metadata": {
        "id": "Nf4HuCBR8MNl"
      },
      "execution_count": null,
      "outputs": []
    },
    {
      "cell_type": "code",
      "source": [
        "def hammingDistance(p, q):\n",
        "  d= 0\n",
        "  for i in range(len(p)):\n",
        "    if p[i] != q[i]:\n",
        "      d+= 1\n",
        "\n",
        "  return d"
      ],
      "metadata": {
        "id": "btdU0fCm7FNw"
      },
      "execution_count": null,
      "outputs": []
    },
    {
      "cell_type": "code",
      "source": [
        "print(hammingDistance('CTACAGCAATACGATCATATGCGGATCCGCAGTGGCCGGTAGACACACGT', 'CTACCCCGCTGCTCAATGACCGGGACTAAAGAGGCGAAGATTATGGTGTG'))"
      ],
      "metadata": {
        "colab": {
          "base_uri": "https://localhost:8080/"
        },
        "id": "H9wYbpTdpB68",
        "outputId": "99971c55-27dd-4b62-e64b-0a92b862f374"
      },
      "execution_count": null,
      "outputs": [
        {
          "output_type": "stream",
          "name": "stdout",
          "text": [
            "36\n"
          ]
        }
      ]
    },
    {
      "cell_type": "code",
      "source": [
        "def patternCount(seq, pattern):\n",
        "  count= 0\n",
        "\n",
        "  for i  in range(len(seq)-len(pattern)+1):\n",
        "    if seq[i:i+len(pattern)] == pattern:\n",
        "      count+= 1\n",
        "\n",
        "  return count"
      ],
      "metadata": {
        "id": "KCtvq3CPVwlL"
      },
      "execution_count": null,
      "outputs": []
    },
    {
      "cell_type": "code",
      "source": [
        "patternCount('ACTGTACGATGATGTGTGTCAAAG', 'TGT')"
      ],
      "metadata": {
        "colab": {
          "base_uri": "https://localhost:8080/"
        },
        "id": "QRZ7tAflZ4vu",
        "outputId": "384d8951-7abf-4704-eee8-b4bd3910ccf7"
      },
      "execution_count": null,
      "outputs": [
        {
          "output_type": "execute_result",
          "data": {
            "text/plain": [
              "4"
            ]
          },
          "metadata": {},
          "execution_count": 21
        }
      ]
    },
    {
      "cell_type": "code",
      "source": [
        "def patternMatching(seq, pattern):\n",
        "  indexes= ''\n",
        "\n",
        "  for i  in range(len(seq)-len(pattern)+1):\n",
        "    if seq[i:i+len(pattern)] == pattern:\n",
        "      indexes= indexes + str(i) + ' '\n",
        "\n",
        "  return indexes"
      ],
      "metadata": {
        "id": "yAXOclsa_I66"
      },
      "execution_count": null,
      "outputs": []
    },
    {
      "cell_type": "code",
      "source": [
        "def approximatePatternCount(seq, pattern, d):\n",
        "  count= 0\n",
        "  ind= []\n",
        "\n",
        "  for i in range(len(seq)-len(pattern)+1):\n",
        "    if hammingDistance(seq[i:i+len(pattern)], pattern) <= d:\n",
        "      count+= 1\n",
        "      ind.append(i)\n",
        "\n",
        "  return count\n",
        "#  return(ind)"
      ],
      "metadata": {
        "id": "nGNZklur8jx-"
      },
      "execution_count": null,
      "outputs": []
    },
    {
      "cell_type": "code",
      "source": [
        "def symbolToNum(c):\n",
        "  if c == 'A':\n",
        "    return 0\n",
        "  elif c == 'C':\n",
        "    return 1\n",
        "  elif c == 'G':\n",
        "    return 2\n",
        "  else:\n",
        "    return 3\n",
        "\n",
        "def patternToNum(pattern):\n",
        "  if len(pattern) == 0:\n",
        "    return 0\n",
        "  else:\n",
        "    symbol= pattern[len(pattern)-1]\n",
        "    prefix=  pattern[:len(pattern)-1]\n",
        "    return 4*patternToNum(prefix) + symbolToNum(symbol)"
      ],
      "metadata": {
        "id": "NOoJuqcUEiDP"
      },
      "execution_count": null,
      "outputs": []
    },
    {
      "cell_type": "code",
      "metadata": {
        "id": "GnZni5KWr8s0"
      },
      "source": [
        "def numToSymbol(n):\n",
        "  if n == 0:\n",
        "    return 'A'\n",
        "  elif n == 1:\n",
        "    return 'C'\n",
        "  elif n == 2:\n",
        "    return 'G'\n",
        "  else:\n",
        "    return 'T'\n",
        "\n",
        "def numToPattern(index, k):\n",
        "  if k == 1:\n",
        "    return numToSymbol(index)\n",
        "  else:\n",
        "    prefixInd= int(index/4)\n",
        "    remainder= index%4\n",
        "    symbol= numToSymbol(remainder)\n",
        "    return numToPattern(prefixInd, k-1) + symbol"
      ],
      "execution_count": null,
      "outputs": []
    },
    {
      "cell_type": "code",
      "source": [
        "def computingFrequencies(text, k):\n",
        "  freqArray= np.zeros((4**k))\n",
        "\n",
        "  for i in range(len(text)-k+1):\n",
        "    j= patternToNum(text[i:i+k])\n",
        "    freqArray[j]+= 1\n",
        "\n",
        "  return freqArray"
      ],
      "metadata": {
        "id": "9JVNx6-4-xFS"
      },
      "execution_count": null,
      "outputs": []
    },
    {
      "cell_type": "code",
      "source": [
        "def freqWords(seq, k):\n",
        "  patterns= []\n",
        "  freqPatterns= []\n",
        "  count= []\n",
        "\n",
        "  for i in range(len(seq)-k+1):\n",
        "    count.append(patternCount(seq, seq[i:i+k]))\n",
        "\n",
        "  maxCount= max(count)\n",
        "\n",
        "  for i in range(len(count)):\n",
        "    if count[i] == maxCount:\n",
        "      patterns.append(seq[i:i+k])\n",
        "\n",
        "  freqPatterns.append(patterns[0])\n",
        "\n",
        "  for i in range(1, len(patterns)):\n",
        "    for j in range(0, i):\n",
        "      if patterns[i] == patterns[j]:\n",
        "        break\n",
        "    if j == i-1:\n",
        "      freqPatterns.append(patterns[i])\n",
        "\n",
        "  return freqPatterns"
      ],
      "metadata": {
        "id": "xLXvqDoqXFkn"
      },
      "execution_count": null,
      "outputs": []
    },
    {
      "cell_type": "code",
      "source": [
        "print(freqWords('CGGAGGACTCTAGGTAACGCTTATCAGGTCCATAGGACATTCA', 3))"
      ],
      "metadata": {
        "colab": {
          "base_uri": "https://localhost:8080/"
        },
        "id": "mUMQRS-0a-2z",
        "outputId": "b8d9bd79-52d3-43fc-a44d-e8332be9f3ea"
      },
      "execution_count": null,
      "outputs": [
        {
          "output_type": "stream",
          "name": "stdout",
          "text": [
            "['AGG', 'AGG']\n"
          ]
        }
      ]
    },
    {
      "cell_type": "code",
      "source": [
        "def fasterFreqWords(seq, k):\n",
        "  freqPatterns= []\n",
        "  freqArray= computingFrequencies(seq, k)\n",
        "  maxFreq= max(freqArray)\n",
        "\n",
        "  for i in range(len(freqArray)):\n",
        "    if freqArray[i] == maxFreq:\n",
        "      freqPatterns.append(numToPattern(i,k))\n",
        "\n",
        "  return freqPatterns"
      ],
      "metadata": {
        "id": "FX8MF-7j_YBG"
      },
      "execution_count": null,
      "outputs": []
    },
    {
      "cell_type": "code",
      "metadata": {
        "id": "wRq7MUbWTfTs"
      },
      "source": [
        "def findFreqWordsBySorting(seq, k):\n",
        "  index= []\n",
        "  count= []\n",
        "  paterns= []\n",
        "\n",
        "  for i in range(len(seq)-k+1):\n",
        "    index.append(patternToNum(seq[i:i+k]))\n",
        "    count.append(1)\n",
        "\n",
        "  index.sort()\n",
        "\n",
        "  for i in range(1, len(index)):\n",
        "    if index[i] == index[i-1]:\n",
        "      count[i]= count[i-1] + 1\n",
        "\n",
        "  for i in range(len(index)):\n",
        "    if count[i] == max(count):\n",
        "      paterns.append(numToPattern(index[i], k))\n",
        "\n",
        "    return paterns"
      ],
      "execution_count": null,
      "outputs": []
    },
    {
      "cell_type": "code",
      "source": [
        "def clumpFinding(genom, k, L, t):\n",
        "  freqPatterns= []\n",
        "  clumps= np.zeros((4**k))\n",
        "\n",
        "  for i in range(len(genom)-L+1):\n",
        "    freqArray= computingFrequencies(genom[i:i+L], k)\n",
        "\n",
        "    for j in range(len(clumps)):\n",
        "      if freqArray[j] >= t:\n",
        "        clumps[j]= 1\n",
        "\n",
        "  for i in range(len(clumps)):\n",
        "    if clumps[i] == 1:\n",
        "      freqPatterns.append(numToPattern(i, k))\n",
        "\n",
        "  return freqPatterns"
      ],
      "metadata": {
        "id": "vrGTewxGENBo"
      },
      "execution_count": null,
      "outputs": []
    },
    {
      "cell_type": "code",
      "source": [
        "def betterClumpFinding(genom, k, L, t):\n",
        "  freqPatterns= []\n",
        "  clumps= np.zeros((4**k))\n",
        "  freqArray= computingFrequencies(genom[0:L],k)\n",
        "\n",
        "  for i in range(len(freqArray)):\n",
        "    if freqArray[i] >= t:\n",
        "      clumps[i]= 1\n",
        "\n",
        "  for i in range(len(genom)-L+1):\n",
        "    index= patternToNum(genom[i-1:i-1+k])\n",
        "    freqArray[index]= freqArray[index]-1\n",
        "    index= patternToNum(genom[i+L-k:i+L])\n",
        "    freqArray[index]= freqArray[index]+1\n",
        "\n",
        "    if freqArray[index] >= t:\n",
        "      clumps[index]= 1\n",
        "\n",
        "  for i in range(len(clumps)):\n",
        "    if clumps[i] == 1:\n",
        "      freqPatterns.append(numToPattern(i, k))\n",
        "\n",
        "  return freqPatterns"
      ],
      "metadata": {
        "id": "A3fH1xB0v9gf"
      },
      "execution_count": null,
      "outputs": []
    },
    {
      "cell_type": "code",
      "source": [
        "def immediateNeighbors(pattern):\n",
        "  neighborhood= [pattern]\n",
        "\n",
        "  for i in range(len(pattern)):\n",
        "    symbol= pattern[i]\n",
        "\n",
        "    for X in nucleotides:\n",
        "      if X != pattern[i]:\n",
        "        sample= pattern[0:i]+X+pattern[i+1:len(pattern)]\n",
        "        neighborhood.append(sample)\n",
        "\n",
        "  return neighborhood"
      ],
      "metadata": {
        "id": "ibBbmWMbAINS"
      },
      "execution_count": null,
      "outputs": []
    },
    {
      "cell_type": "code",
      "source": [
        "def sufix(text):\n",
        "  return text[1:len(text)]\n",
        "\n",
        "def neighbors(pattern, d):\n",
        "  if d == 0:\n",
        "    return pattern\n",
        "\n",
        "  if len(pattern) == 1:\n",
        "    return nucleotides\n",
        "\n",
        "  neighborhood= []\n",
        "  sufixNeighbors= neighbors(sufix(pattern), d)\n",
        "\n",
        "  for s in sufixNeighbors:\n",
        "    if hammingDistance(s, sufix(pattern)) < d:\n",
        "      for X in nucleotides:\n",
        "        neighborhood.append(X+s)\n",
        "    else:\n",
        "      neighborhood.append(pattern[0]+s)\n",
        "\n",
        "  return neighborhood"
      ],
      "metadata": {
        "id": "fFH5dYORF6Qv"
      },
      "execution_count": null,
      "outputs": []
    },
    {
      "cell_type": "code",
      "source": [
        "def freqWordsWithMismatches(seq, k, d):\n",
        "  freqPatterns= []\n",
        "  close= np.zeros((4**k))\n",
        "  freqArray= np.zeros((4**k))\n",
        "\n",
        "  for i in range(len(seq)-k+1):\n",
        "    neighborhood= neighbors(seq[i:i+k], d)\n",
        "\n",
        "    for pattern in neighborhood:\n",
        "      index= patternToNum(pattern)\n",
        "      close[index]= 1\n",
        "\n",
        "  for i in range(len(close)):\n",
        "    if close[i] == 1:\n",
        "      pattern= numToPattern(i, k)\n",
        "      freqArray[i]= approximatePatternCount(seq, pattern, d)\n",
        "\n",
        "  maxCount= max(freqArray)\n",
        "\n",
        "  for i in range(len(freqArray)):\n",
        "    if freqArray[i] == maxCount:\n",
        "      freqPatterns.append(numToPattern(i,k))\n",
        "\n",
        "  return freqPatterns"
      ],
      "metadata": {
        "id": "yoFJOOkiShkV"
      },
      "execution_count": null,
      "outputs": []
    },
    {
      "cell_type": "code",
      "source": [
        "def freqWordsWithMismatchesBySorting(seq, k, d):\n",
        "  freqPatterns= []\n",
        "  neighborhood= []\n",
        "  index= []\n",
        "  count= []\n",
        "\n",
        "  for i in range(len(seq)-k+1):\n",
        "    neighborhood.append(neighbors(seq[i:i+k], d))\n",
        "\n",
        "  neighborhoodArray= []\n",
        "\n",
        "  for i in range(len(neighborhood)):\n",
        "    for j in range(len(neighborhood[0])):\n",
        "      neighborhoodArray.append(neighborhood[i][j])\n",
        "\n",
        "  for i in range(len(neighborhoodArray)):\n",
        "    index.append(patternToNum(neighborhoodArray[i]))\n",
        "    count.append(1)\n",
        "\n",
        "  index.sort()\n",
        "\n",
        "  for i in range(1,len(index)):\n",
        "    if index[i] == index[i-1]:\n",
        "      count[i]= count[i-1]+1\n",
        "\n",
        "  maxCount= max(count)\n",
        "\n",
        "  for i in range(len(count)):\n",
        "    if count[i] == maxCount:\n",
        "      freqPatterns.append(numToPattern(index[i], k))\n",
        "\n",
        "  return freqPatterns"
      ],
      "metadata": {
        "id": "qPQDb-B1_sRE"
      },
      "execution_count": null,
      "outputs": []
    },
    {
      "cell_type": "code",
      "metadata": {
        "id": "DIQKdZ74oX6G",
        "colab": {
          "base_uri": "https://localhost:8080/"
        },
        "outputId": "73a61864-1c27-4000-88c6-4627ca44eab8"
      },
      "source": [
        "seq= 'AAGCAAAGGTAAGGTGGGGAGCAAAGAAGGTGAGCAAAGAGGTAAGGTGGGGAGCAAAGAAGGTGA'\n",
        "t= time.time()\n",
        "print(findFreqWordsBySorting(seq, 2), ' ', time.time()-t)\n",
        "t= time.time()\n",
        "print(freqWords(seq, 2), ' ', time.time()-t)\n",
        "t= time.time()\n",
        "print(fasterFreqWords(seq, 2), ' ', time.time()-t)\n",
        "t= time.time()\n",
        "print(clumpFinding(seq, 2, 9, 2), ' ', time.time()-t)\n",
        "t= time.time()\n",
        "print(betterClumpFinding(seq, 2, 9, 2), ' ', time.time()-t)\n",
        "p= 'AAAAAA'\n",
        "q= 'TACAAG'\n",
        "print(hammingDistance(p,q))\n",
        "print(approximatePatternCount(seq, 'AGAA', 1))\n",
        "print(immediateNeighbors('AAA'))\n",
        "print(neighbors('AAA', 1))\n",
        "t= time.time()\n",
        "print(freqWordsWithMismatches(seq, 2, 1), ' ', time.time()-t)\n",
        "t= time.time()\n",
        "print(freqWordsWithMismatchesBySorting(seq, 2, 1), ' ', time.time()-t)"
      ],
      "execution_count": null,
      "outputs": [
        {
          "output_type": "stream",
          "name": "stdout",
          "text": [
            "[]   0.00021076202392578125\n",
            "['AA', 'AG']   0.0009758472442626953\n",
            "['AA', 'AG']   0.0003898143768310547\n",
            "['AA', 'AG', 'GA', 'GG', 'GT']   0.0033113956451416016\n",
            "['AA', 'AG', 'GA', 'GG', 'GT']   0.00044155120849609375\n",
            "3\n",
            "7\n",
            "['AAA', 'CAA', 'GAA', 'TAA', 'ACA', 'AGA', 'ATA', 'AAC', 'AAG', 'AAT']\n",
            "['AAA', 'CAA', 'GAA', 'TAA', 'ACA', 'AGA', 'ATA', 'AAC', 'AAG', 'AAT']\n",
            "['GA']   0.0021719932556152344\n",
            "['GA']   0.0014507770538330078\n"
          ]
        }
      ]
    },
    {
      "cell_type": "code",
      "metadata": {
        "id": "E6yipCDGvEIR",
        "colab": {
          "base_uri": "https://localhost:8080/"
        },
        "outputId": "f6cb64c5-6ee0-4bc4-89d3-acef624c40ea"
      },
      "source": [
        "8.7//4"
      ],
      "execution_count": null,
      "outputs": [
        {
          "output_type": "execute_result",
          "data": {
            "text/plain": [
              "2.0"
            ]
          },
          "metadata": {},
          "execution_count": 24
        }
      ]
    },
    {
      "cell_type": "code",
      "source": [
        "def FrequencyMap(Text, k):\n",
        "    freq = {}\n",
        "    n = len(Text)\n",
        "    for i in range(n-k+1):\n",
        "        Pattern = Text[i:i+k]\n",
        "        freq[Pattern] = 0\n",
        "    for k,v in freq.items():\n",
        "        freq[k]= PatternCount(Text, k)\n",
        "\n",
        "    return freq\n",
        "\n",
        "def PatternCount(Text, Pattern):\n",
        "    count= 0\n",
        "\n",
        "    for i  in range(len(Text)-len(Pattern)+1):\n",
        "        if Text[i:i+len(Pattern)] == Pattern:\n",
        "            count+= 1\n",
        "\n",
        "    return count\n",
        "\n",
        "def FrequentWords(Text, k):\n",
        "    words = []\n",
        "    freq = FrequencyMap(Text, k)\n",
        "    m = max(freq.values())\n",
        "    for key in freq:\n",
        "        if freq[key] == m:\n",
        "            words.append(key)\n",
        "    return words\n",
        "\n",
        "def Reverse(Pattern):\n",
        "    revSeq= ''\n",
        "    for char in Pattern:\n",
        "        revSeq= char + revSeq\n",
        "\n",
        "    return revSeq\n",
        "\n",
        "def Complement(Pattern):\n",
        "    revSeq= ''\n",
        "    for char in Pattern:\n",
        "        if char == 'A':\n",
        "            revSeq+= 'T'\n",
        "        elif char == 'C':\n",
        "            revSeq+= 'G'\n",
        "        elif char == 'G':\n",
        "            revSeq+= 'C'\n",
        "        else:\n",
        "            revSeq+= 'A'\n",
        "\n",
        "    return revSeq\n",
        "\n",
        "def ReverseComplement(Pattern):\n",
        "    return Reverse(Complement(Pattern))\n",
        "\n",
        "def PatternMatching(Pattern, Genome):\n",
        "    positions = []\n",
        "\n",
        "    for i  in range(len(Genome)-len(Pattern)+1):\n",
        "        if Genome[i:i+len(Pattern)] == Pattern:\n",
        "            positions.append(i)\n",
        "\n",
        "    return positions\n",
        "\n",
        "def SymbolArray(Genome, symbol):\n",
        "    array = {}\n",
        "    n = len(Genome)\n",
        "    ExtendedGenome = Genome + Genome[0:n//2]\n",
        "    for i in range(n):\n",
        "        array[i] = PatternCount(ExtendedGenome[i:i+(n//2)], symbol)\n",
        "    return array\n",
        "\n",
        "def FasterSymbolArray(Genome, symbol):\n",
        "    array = {}\n",
        "    n = len(Genome)\n",
        "    ExtendedGenome = Genome + Genome[0:n//2]\n",
        "\n",
        "    # look at the first half of Genome to compute first array value\n",
        "    array[0] = PatternCount(symbol, Genome[0:n//2])\n",
        "\n",
        "    for i in range(1, n):\n",
        "        # start by setting the current array value equal to the previous array value\n",
        "        array[i] = array[i-1]\n",
        "\n",
        "        # the current array value can differ from the previous array value by at most 1\n",
        "        if ExtendedGenome[i-1] == symbol:\n",
        "            array[i] = array[i]-1\n",
        "        if ExtendedGenome[i+(n//2)-1] == symbol:\n",
        "            array[i] = array[i]+1\n",
        "    return array\n",
        "\n",
        "def SkewArray(Genome):\n",
        "    Skew= np.zeros((len(Genome)+1), dtype= int)\n",
        "\n",
        "    for i in range(len(Genome)):\n",
        "        if Genome[i] == 'G':\n",
        "            Skew[i+1]= Skew[i] + 1\n",
        "        elif Genome[i] == 'C':\n",
        "            Skew[i+1]= Skew[i] - 1\n",
        "        else:\n",
        "            Skew[i+1]= Skew[i]\n",
        "\n",
        "    return Skew\n",
        "\n",
        "def MinimumSkew(Genome):\n",
        "    positions = [] # output variable\n",
        "\n",
        "    Skew= SkewArray(Genome)\n",
        "    for i in range(len(Skew)):\n",
        "        if Skew[i] == min(Skew):\n",
        "            positions.append(i)\n",
        "\n",
        "    return positions\n",
        "\n",
        "def HammingDistance(p, q):\n",
        "    d= 0\n",
        "    for i in range(len(p)):\n",
        "        if p[i] != q[i]:\n",
        "            d+= 1\n",
        "\n",
        "    return d\n",
        "\n",
        "def ApproximatePatternMatching(Text, Pattern, d):\n",
        "    positions = []\n",
        "\n",
        "    for i in range(len(Text)-len(Pattern)+1):\n",
        "        if HammingDistance(Text[i:i+len(Pattern)], Pattern) <= d:\n",
        "            positions.append(i)\n",
        "\n",
        "    return positions\n",
        "\n",
        "def ApproximatePatternCount(Pattern, Text, d):\n",
        "    count = 0\n",
        "    for i in range(len(Text)-len(Pattern)+1):\n",
        "        if HammingDistance(Text[i:i+len(Pattern)], Pattern) <= d:\n",
        "            count+= 1\n",
        "\n",
        "    return count"
      ],
      "metadata": {
        "id": "69Xu63pRn6GU"
      },
      "execution_count": null,
      "outputs": []
    },
    {
      "cell_type": "code",
      "source": [],
      "metadata": {
        "id": "fF_-ksWq4cQH"
      },
      "execution_count": null,
      "outputs": []
    }
  ]
}